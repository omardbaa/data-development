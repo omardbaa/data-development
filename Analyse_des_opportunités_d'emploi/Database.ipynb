{
 "cells": [
  {
   "cell_type": "markdown",
   "id": "8c57c7e1",
   "metadata": {},
   "source": [
    "# *<span style=\"color:blue\">Data Insertion</span>*"
   ]
  },
  {
   "cell_type": "code",
   "execution_count": 1,
   "id": "cc489377",
   "metadata": {},
   "outputs": [],
   "source": [
    "import pandas as pd\n",
    "import pyodbc"
   ]
  },
  {
   "cell_type": "code",
   "execution_count": 2,
   "id": "a9f59ec5",
   "metadata": {},
   "outputs": [],
   "source": [
    "df = pd.read_csv(\"cleaned_data.csv\")"
   ]
  },
  {
   "cell_type": "code",
   "execution_count": 3,
   "id": "7d6523f7",
   "metadata": {},
   "outputs": [],
   "source": [
    "server_name = 'LAPTOP-QRK184LV'\n",
    "database_name = 'jobs'\n",
    "driver_name = 'ODBC Driver 17 for SQL Server'\n",
    "conn_string = f'Driver={{ODBC Driver 17 for SQL Server}};Server={server_name};Database={database_name};Trusted_Connection=yes;'\n"
   ]
  },
  {
   "cell_type": "markdown",
   "id": "7dbb66b0",
   "metadata": {},
   "source": [
    "### *<span style=\"color:green\">Tables creation</span>*"
   ]
  },
  {
   "cell_type": "code",
   "execution_count": 4,
   "id": "7f7ccf56",
   "metadata": {},
   "outputs": [],
   "source": [
    "server = server_name\n",
    "database = database_name\n",
    "driver = driver_name\n",
    "conn_str = conn_string\n",
    "\n",
    "\n",
    "conn = pyodbc.connect(conn_str)\n",
    "cursor = conn.cursor()\n",
    "\n",
    "# Create tables in the correct order to avoid dependency issues\n",
    "cursor.execute('''\n",
    "CREATE TABLE Facility (\n",
    "    FacilityID INT PRIMARY KEY IDENTITY(1,1),\n",
    "    FacilityName VARCHAR(255)\n",
    ")\n",
    "''')\n",
    "\n",
    "cursor.execute('''\n",
    "CREATE TABLE Domain (\n",
    "    DomainID INT PRIMARY KEY IDENTITY(1,1),\n",
    "    DomainName VARCHAR(255)\n",
    ")\n",
    "''')\n",
    "\n",
    "cursor.execute('''\n",
    "CREATE TABLE Requirement (\n",
    "    RequirementID INT PRIMARY KEY IDENTITY(1,1),\n",
    "    RequirementName VARCHAR(255)\n",
    ")\n",
    "''')\n",
    "\n",
    "cursor.execute('''\n",
    "CREATE TABLE Company (\n",
    "    CompanyID INT PRIMARY KEY IDENTITY(1,1),\n",
    "    CompanyName VARCHAR(255)\n",
    ")\n",
    "''')\n",
    "\n",
    "cursor.execute('''\n",
    "CREATE TABLE Country (\n",
    "    CountryID INT PRIMARY KEY IDENTITY(1,1),\n",
    "    CountryName VARCHAR(255)\n",
    ")\n",
    "''')\n",
    "\n",
    "cursor.execute('''\n",
    "CREATE TABLE Experience_Level (\n",
    "    LevelID INT PRIMARY KEY IDENTITY(1,1),\n",
    "    LevelName VARCHAR(255)\n",
    ")\n",
    "''')\n",
    "\n",
    "cursor.execute('''\n",
    "CREATE TABLE Job (\n",
    "    JobID INT PRIMARY KEY IDENTITY(1,1),\n",
    "    JobTitle VARCHAR(255),\n",
    "    JobType VARCHAR(255),\n",
    "    LevelID INT,\n",
    "    CountryID INT,\n",
    "    CompanyID INT,\n",
    "    Salary FLOAT,\n",
    "    JobFormat VARCHAR(255),\n",
    "    CONSTRAINT FK_Job_CompanyID FOREIGN KEY (CompanyID) REFERENCES Company (CompanyID),\n",
    "    CONSTRAINT FK_Job_LevelID FOREIGN KEY (LevelID) REFERENCES Experience_Level (LevelID),\n",
    "    CONSTRAINT FK_Job_CountryID FOREIGN KEY (CountryID) REFERENCES Country (CountryID)\n",
    ")\n",
    "''')\n",
    "\n",
    "cursor.execute('''\n",
    "CREATE TABLE Job_Domain (\n",
    "    JobID INT,\n",
    "    DomainID INT,\n",
    "    CONSTRAINT FK_Job_Domain_JobID FOREIGN KEY (JobID) REFERENCES Job (JobID),\n",
    "    CONSTRAINT FK_Job_Domain_DomainID FOREIGN KEY (DomainID) REFERENCES Domain (DomainID)\n",
    ")\n",
    "''')\n",
    "\n",
    "cursor.execute('''\n",
    "CREATE TABLE Job_Requirement (\n",
    "    JobID INT,\n",
    "    RequirementID INT,\n",
    "    CONSTRAINT FK_Job_Requirement_JobID FOREIGN KEY (JobID) REFERENCES Job (JobID),\n",
    "    CONSTRAINT FK_Job_Requirement_RequirementID FOREIGN KEY (RequirementID) REFERENCES Requirement (RequirementID)\n",
    ")\n",
    "''')\n",
    "\n",
    "cursor.execute('''\n",
    "CREATE TABLE Job_Facility (\n",
    "    JobID INT,\n",
    "    FacilityID INT,\n",
    "    CONSTRAINT FK_Job_Facility_JobID FOREIGN KEY (JobID) REFERENCES Job (JobID),\n",
    "    CONSTRAINT FK_Job_Facility_FacilityID FOREIGN KEY (FacilityID) REFERENCES Facility (FacilityID)\n",
    ")\n",
    "''')\n",
    "\n",
    "# Commit the changes and close the connection\n",
    "conn.commit()\n",
    "#conn.close()\n",
    "\n"
   ]
  },
  {
   "cell_type": "markdown",
   "id": "a451e257",
   "metadata": {},
   "source": [
    "### *<span style=\"color:green\">Insert data to Requirement Table</span>*"
   ]
  },
  {
   "cell_type": "code",
   "execution_count": null,
   "id": "e1c09c28",
   "metadata": {
    "scrolled": true
   },
   "outputs": [],
   "source": [
    "# Concatenate all the keywords from the entire 'Company_requirement' column into a single string\n",
    "distinct_requirements_str = ','.join(df['Company_requirement'])\n",
    "\n",
    "# Extract keywords within two double quotes and remove any empty values\n",
    "distinct_requirements_list = [req.strip() for req in distinct_requirements_str.replace('\"', '').split(',') if req.strip()]\n",
    "\n",
    "# Convert the list to a set to remove duplicates, then back to a list to maintain order\n",
    "distinct_requirements_list = list(set(distinct_requirements_list))\n",
    "\n",
    "# Create a DataFrame with unique 'RequirementName'\n",
    "requirements_df = pd.DataFrame({'RequirementName': distinct_requirements_list})\n",
    "\n",
    "# Generate a unique ID ('RequirementID') for each distinct requirement\n",
    "requirements_df['RequirementID'] = range(1, len(requirements_df) + 1)\n",
    "\n",
    "# Display the new dataset with 'RequirementName' and 'RequirementID'\n",
    "display(requirements_df)\n"
   ]
  },
  {
   "cell_type": "code",
   "execution_count": 6,
   "id": "67acbf63",
   "metadata": {},
   "outputs": [],
   "source": [
    "# Insert into the Requirement table\n",
    "for index, row in requirements_df.iterrows():\n",
    "    cursor.execute(\"INSERT INTO Requirement (RequirementName) VALUES (?)\", row['RequirementName'])\n",
    "conn.commit()"
   ]
  },
  {
   "cell_type": "markdown",
   "id": "00a461e8",
   "metadata": {},
   "source": [
    "### *<span style=\"color:green\">Insert data to Facility Table</span>*"
   ]
  },
  {
   "cell_type": "code",
   "execution_count": null,
   "id": "9986f68a",
   "metadata": {
    "scrolled": true
   },
   "outputs": [],
   "source": [
    "# Concatenate all the keywords from the entire 'Facilities' column into a single string\n",
    "distinct_facilities_str = ','.join(df['Facilities'])\n",
    "\n",
    "# Extract keywords within two double quotes and remove any empty values\n",
    "distinct_facilities_list = [facility.strip() for facility in distinct_facilities_str.replace('\"', '').split(',') if facility.strip()]\n",
    "\n",
    "# Convert the list to a set to remove duplicates, then back to a list to maintain order\n",
    "distinct_facilities_list = list(set(distinct_facilities_list))\n",
    "\n",
    "# Create a DataFrame with unique 'FacilityName'\n",
    "facilities_df = pd.DataFrame({'FacilityName': distinct_facilities_list})\n",
    "\n",
    "# Generate a unique ID ('FacilityID') for each distinct facility\n",
    "facilities_df['FacilityID'] = range(1, len(facilities_df) + 1)\n",
    "\n",
    "# Display the new dataset with 'FacilityName' and 'FacilityID'\n",
    "display(facilities_df)\n"
   ]
  },
  {
   "cell_type": "code",
   "execution_count": 8,
   "id": "584d7b3a",
   "metadata": {},
   "outputs": [],
   "source": [
    "# Insert into the Facility table\n",
    "for index, row in facilities_df.iterrows():\n",
    "    cursor.execute(\"INSERT INTO Facility (FacilityName) VALUES (?)\", row['FacilityName'])\n",
    "conn.commit()"
   ]
  },
  {
   "cell_type": "markdown",
   "id": "9fc7e56b",
   "metadata": {},
   "source": [
    "### *<span style=\"color:green\">Insert data to Company Table</span>*"
   ]
  },
  {
   "cell_type": "code",
   "execution_count": null,
   "id": "ada430bd",
   "metadata": {},
   "outputs": [],
   "source": [
    "\n",
    "# Create a mapping of unique company names to unique IDs\n",
    "company_mapping = {}\n",
    "next_company_id = 1\n",
    "\n",
    "for company in df['Company'].unique():\n",
    "    if company not in company_mapping:\n",
    "        company_mapping[company] = next_company_id\n",
    "        next_company_id += 1\n",
    "\n",
    "# Add a new column for CompanyID\n",
    "df['CompanyID'] = df['Company'].map(company_mapping)\n",
    "\n",
    "# Now your dataframe contains the CompanyID for each company name\n",
    "display(df)\n"
   ]
  },
  {
   "cell_type": "code",
   "execution_count": null,
   "id": "c59523c0",
   "metadata": {
    "scrolled": true
   },
   "outputs": [],
   "source": [
    "distinct_company_df = df[['Company']].copy().drop_duplicates()\n",
    "distinct_company_df['CompanyID'] = range(1, len(distinct_company_df) + 1)\n",
    "\n",
    "# Display the new datasets with unique IDs for each column\n",
    "print(\"Distinct Company DataFrame:\")\n",
    "display(distinct_company_df)"
   ]
  },
  {
   "cell_type": "code",
   "execution_count": 11,
   "id": "ff383346",
   "metadata": {},
   "outputs": [],
   "source": [
    "# Insert into the Company table\n",
    "for index, row in distinct_company_df.iterrows():\n",
    "    cursor.execute(\"INSERT INTO Company (CompanyName) VALUES (?)\", row['Company'])\n",
    "conn.commit()"
   ]
  },
  {
   "cell_type": "markdown",
   "id": "79bbf6c3",
   "metadata": {},
   "source": [
    "### *<span style=\"color:green\">Insert data to Experience_Level Table</span>*"
   ]
  },
  {
   "cell_type": "code",
   "execution_count": null,
   "id": "64ddd4ab",
   "metadata": {},
   "outputs": [],
   "source": [
    "# Experience level column\n",
    "distinct_experience_level_df = df[['Experience level']].copy().drop_duplicates()\n",
    "distinct_experience_level_df['ExperienceLevelID'] = range(1, len(distinct_experience_level_df) + 1)\n",
    "\n",
    "print(\"\\nDistinct Experience Level DataFrame:\")\n",
    "display(distinct_experience_level_df)\n"
   ]
  },
  {
   "cell_type": "code",
   "execution_count": 13,
   "id": "d0eeee0c",
   "metadata": {},
   "outputs": [],
   "source": [
    "# Insert into the Experience_Level table\n",
    "for index, row in distinct_experience_level_df.iterrows():\n",
    "    cursor.execute(\"INSERT INTO Experience_Level (LevelName) VALUES (?)\", row['Experience level'])\n",
    "conn.commit()"
   ]
  },
  {
   "cell_type": "markdown",
   "id": "9e2cd841",
   "metadata": {},
   "source": [
    "### *<span style=\"color:green\">Insert data to Country Table</span>*"
   ]
  },
  {
   "cell_type": "code",
   "execution_count": null,
   "id": "2a0d5f2f",
   "metadata": {},
   "outputs": [],
   "source": [
    "# country column\n",
    "distinct_country_df = df[['country']].copy().drop_duplicates()\n",
    "distinct_country_df['CountryID'] = range(1, len(distinct_country_df) + 1)\n",
    "\n",
    "print(\"\\nDistinct Country DataFrame:\")\n",
    "display(distinct_country_df)"
   ]
  },
  {
   "cell_type": "code",
   "execution_count": 15,
   "id": "dc073268",
   "metadata": {},
   "outputs": [],
   "source": [
    "# Insert into the Country table\n",
    "for index, row in distinct_country_df.iterrows():\n",
    "    cursor.execute(\"INSERT INTO Country (CountryName) VALUES (?)\", row['country'])\n",
    "conn.commit()"
   ]
  },
  {
   "cell_type": "markdown",
   "id": "df4d920f",
   "metadata": {},
   "source": [
    "### *<span style=\"color:green\">Insert data to Domain Table</span>*"
   ]
  },
  {
   "cell_type": "code",
   "execution_count": null,
   "id": "dd7b14e4",
   "metadata": {
    "scrolled": false
   },
   "outputs": [],
   "source": [
    "# Domain column\n",
    "distinct_domain_df = df[['Domain']].copy().drop_duplicates()\n",
    "distinct_domain_df['DomainID'] = range(1, len(distinct_domain_df) + 1)\n",
    "\n",
    "print(\"\\nDistinct Domain DataFrame:\")\n",
    "display(distinct_domain_df)\n"
   ]
  },
  {
   "cell_type": "code",
   "execution_count": 17,
   "id": "b172cb2a",
   "metadata": {},
   "outputs": [],
   "source": [
    "# Insert into the Domain table\n",
    "for index, row in distinct_domain_df.iterrows():\n",
    "    cursor.execute(\"INSERT INTO Domain (DomainName) VALUES (?)\", row['Domain'])\n",
    "conn.commit()"
   ]
  },
  {
   "cell_type": "markdown",
   "id": "6954a520",
   "metadata": {},
   "source": [
    "### *<span style=\"color:green\">Insert data to Job Table</span>*"
   ]
  },
  {
   "cell_type": "code",
   "execution_count": null,
   "id": "e42815cc",
   "metadata": {},
   "outputs": [],
   "source": [
    "# Job Title column\n",
    "distinct_job_title_df = df[['Job Title']].copy().drop_duplicates()\n",
    "distinct_job_title_df['JobTitleID'] = range(1, len(distinct_job_title_df) + 1)\n",
    "\n",
    "print(\"\\nDistinct Job Title DataFrame:\")\n",
    "display(distinct_job_title_df)"
   ]
  },
  {
   "cell_type": "code",
   "execution_count": 19,
   "id": "107b7c3e",
   "metadata": {},
   "outputs": [],
   "source": [
    "\n",
    "# Function to get the ID from the Company table or insert a new company and return the newly generated ID\n",
    "def get_company_id(company_name):\n",
    "    cursor.execute(\"SELECT CompanyID FROM Company WHERE CompanyName=?\", company_name)\n",
    "    company_id_result = cursor.fetchone()\n",
    "    if company_id_result is not None:\n",
    "        return company_id_result[0]\n",
    "    else:\n",
    "        cursor.execute(\"SELECT SCOPE_IDENTITY()\")\n",
    "        return cursor.fetchone()[0]\n",
    "\n",
    "# Function to get the ID from the Country table or insert a new country and return the newly generated ID\n",
    "def get_country_id(country_name):\n",
    "    cursor.execute(\"SELECT CountryID FROM Country WHERE CountryName=?\", country_name)\n",
    "    country_id_result = cursor.fetchone()\n",
    "    if country_id_result is not None:\n",
    "        return country_id_result[0]\n",
    "    else:\n",
    "        cursor.execute(\"SELECT SCOPE_IDENTITY()\")\n",
    "        return cursor.fetchone()[0]\n",
    "\n",
    "# Function to get the ID from the Experience_Level table or insert a new level and return the newly generated ID\n",
    "def get_level_id(level_name):\n",
    "    cursor.execute(\"SELECT LevelID FROM Experience_Level WHERE LevelName=?\", level_name)\n",
    "    level_id_result = cursor.fetchone()\n",
    "    if level_id_result is not None:\n",
    "        return level_id_result[0]\n",
    "    else:\n",
    "        cursor.execute(\"SELECT SCOPE_IDENTITY()\")\n",
    "        return cursor.fetchone()[0]\n",
    "\n",
    "# Insert data into the Job table\n",
    "for index, row in df.iterrows():\n",
    "    company_id = get_company_id(row['Company'])\n",
    "    country_id = get_country_id(row['country'])\n",
    "    level_id = get_level_id(row['Experience level'])\n",
    "    \n",
    "    cursor.execute(\"INSERT INTO Job (JobTitle, JobType, LevelID, CountryID, CompanyID, Salary, JobFormat) VALUES (?, ?, ?, ?, ?, ?, ?)\",\n",
    "                   row['Job Title'], row['Job Type'], level_id, country_id, company_id, row['Salary (USD)'], row['Job Format'])\n",
    "\n",
    "# Commit the changes and close the connection\n",
    "conn.commit()\n",
    "# conn.close()\n"
   ]
  },
  {
   "cell_type": "markdown",
   "id": "a532d300",
   "metadata": {},
   "source": [
    "### *<span style=\"color:green\">Insert data to Job_Facility , Job_Domain and Job_Requirement Tables</span>*"
   ]
  },
  {
   "cell_type": "code",
   "execution_count": null,
   "id": "476a1158",
   "metadata": {},
   "outputs": [],
   "source": [
    "# Fetch job_ids from the Job table\n",
    "cursor.execute(\"SELECT JobID FROM Job\")\n",
    "job_ids_result = cursor.fetchall()\n",
    "job_ids = [row[0] for row in job_ids_result]\n",
    "\n",
    "# Loop through each row in the DataFrame\n",
    "for index, row in df.iterrows():\n",
    "    job_id = job_ids[index]\n",
    "\n",
    "    # Insert into the Job_Facility table\n",
    "    for facility in row['Facilities'].split(','):\n",
    "        cursor.execute(\"SELECT FacilityID FROM Facility WHERE FacilityName=?\", facility.strip())\n",
    "        facility_id_result = cursor.fetchone()\n",
    "        if facility_id_result is not None:\n",
    "            facility_id = facility_id_result[0]\n",
    "        else:\n",
    "            # If the FacilityName does not exist in the Facility table, you may choose to insert it or handle it as needed\n",
    "            # For example, you can insert a new facility entry and get the newly generated FacilityID\n",
    "            cursor.execute(\"INSERT INTO Facility (FacilityName) VALUES (?)\", facility.strip())\n",
    "            cursor.execute(\"SELECT SCOPE_IDENTITY()\")\n",
    "            facility_id = cursor.fetchone()[0]\n",
    "\n",
    "        cursor.execute(\"INSERT INTO Job_Facility (JobID, FacilityID) VALUES (?, ?)\", job_id, facility_id)\n",
    "\n",
    "    # Insert into the Job_Domain table\n",
    "    for domain in row['Domain'].split(','):\n",
    "        cursor.execute(\"SELECT DomainID FROM Domain WHERE DomainName=?\", domain.strip())\n",
    "        domain_id_result = cursor.fetchone()\n",
    "        if domain_id_result is not None:\n",
    "            domain_id = domain_id_result[0]\n",
    "            cursor.execute(\"INSERT INTO Job_Domain (JobID, DomainID) VALUES (?, ?)\", job_id, domain_id)\n",
    "        else:\n",
    "            print(f\"Domain not found in the Domain table: {domain.strip()}\")\n",
    "\n",
    "    # Insert into the Job_Requirement table\n",
    "    for requirement in row['Company_requirement'].split(','):\n",
    "        cursor.execute(\"SELECT RequirementID FROM Requirement WHERE RequirementName=?\", requirement.strip())\n",
    "        requirement_id_result = cursor.fetchone()\n",
    "        if requirement_id_result is not None:\n",
    "            requirement_id = requirement_id_result[0]\n",
    "        else:\n",
    "            # For example, you can insert a new requirement entry and get the newly generated RequirementID\n",
    "            cursor.execute(\"INSERT INTO Requirement (RequirementName) VALUES (?)\", requirement.strip())\n",
    "            cursor.execute(\"SELECT SCOPE_IDENTITY()\")\n",
    "            requirement_id = cursor.fetchone()[0]\n",
    "\n",
    "        cursor.execute(\"INSERT INTO Job_Requirement (JobID, RequirementID) VALUES (?, ?)\", job_id, requirement_id)\n",
    "\n",
    "# Commit the changes and close the connection\n",
    "conn.commit()\n",
    "# conn.close()\n"
   ]
  },
  {
   "cell_type": "code",
   "execution_count": null,
   "id": "88e95475",
   "metadata": {},
   "outputs": [],
   "source": []
  }
 ],
 "metadata": {
  "kernelspec": {
   "display_name": "Python 3 (ipykernel)",
   "language": "python",
   "name": "python3"
  },
  "language_info": {
   "codemirror_mode": {
    "name": "ipython",
    "version": 3
   },
   "file_extension": ".py",
   "mimetype": "text/x-python",
   "name": "python",
   "nbconvert_exporter": "python",
   "pygments_lexer": "ipython3",
   "version": "3.11.3"
  }
 },
 "nbformat": 4,
 "nbformat_minor": 5
}
