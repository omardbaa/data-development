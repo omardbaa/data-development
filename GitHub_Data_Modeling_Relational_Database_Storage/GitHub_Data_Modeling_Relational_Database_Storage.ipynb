{
 "cells": [
  {
   "cell_type": "code",
   "execution_count": 250,
   "id": "43ca6e50",
   "metadata": {},
   "outputs": [],
   "source": [
    "import pandas as pd\n",
    "import pyodbc"
   ]
  },
  {
   "cell_type": "code",
   "execution_count": 272,
   "id": "e3d20f92",
   "metadata": {},
   "outputs": [],
   "source": [
    "\n",
    "# Lecture du fichier CSV\n",
    "data = pd.read_csv('cleaned_repositoriesV1.csv')\n"
   ]
  },
  {
   "cell_type": "code",
   "execution_count": 266,
   "id": "dae234cc",
   "metadata": {},
   "outputs": [],
   "source": [
    "# Define your connection details\n",
    "connection_string = (\n",
    "    'Driver={SQL Server};'\n",
    "    'Server=LAPTOP-QRK184LV;'\n",
    "    'Database=github-data;'\n",
    "    'Trusted_Connection=yes;'\n",
    ")\n",
    "\n",
    "\n",
    "# Create a connection and cursor\n",
    "connection = pyodbc.connect(connection_string)\n",
    "cursor = connection.cursor()\n",
    "\n",
    "\n"
   ]
  },
  {
   "cell_type": "code",
   "execution_count": null,
   "id": "0d09ba7d",
   "metadata": {},
   "outputs": [],
   "source": []
  },
  {
   "cell_type": "code",
   "execution_count": null,
   "id": "d0e1ccf2",
   "metadata": {},
   "outputs": [],
   "source": []
  },
  {
   "cell_type": "markdown",
   "id": "2dc4cd1c",
   "metadata": {},
   "source": [
    "### Create the Contributor table"
   ]
  },
  {
   "cell_type": "code",
   "execution_count": 259,
   "id": "9670072a",
   "metadata": {
    "scrolled": true
   },
   "outputs": [
    {
     "ename": "ProgrammingError",
     "evalue": "('42S01', \"[42S01] [Microsoft][ODBC SQL Server Driver][SQL Server]Il existe déjà un objet nommé 'Contributor' dans la base de données. (2714) (SQLExecDirectW)\")",
     "output_type": "error",
     "traceback": [
      "\u001b[1;31m---------------------------------------------------------------------------\u001b[0m",
      "\u001b[1;31mProgrammingError\u001b[0m                          Traceback (most recent call last)",
      "Cell \u001b[1;32mIn[259], line 2\u001b[0m\n\u001b[0;32m      1\u001b[0m \u001b[38;5;66;03m# Create the Contributor table\u001b[39;00m\n\u001b[1;32m----> 2\u001b[0m \u001b[43mcursor\u001b[49m\u001b[38;5;241;43m.\u001b[39;49m\u001b[43mexecute\u001b[49m\u001b[43m(\u001b[49m\u001b[38;5;124;43m'''\u001b[39;49m\n\u001b[0;32m      3\u001b[0m \u001b[38;5;124;43m    CREATE TABLE Contributor (\u001b[39;49m\n\u001b[0;32m      4\u001b[0m \u001b[38;5;124;43m        contributor_id INT PRIMARY KEY IDENTITY(1,1),\u001b[39;49m\n\u001b[0;32m      5\u001b[0m \u001b[38;5;124;43m        contributor_name NVARCHAR(50)\u001b[39;49m\n\u001b[0;32m      6\u001b[0m \u001b[38;5;124;43m    )\u001b[39;49m\n\u001b[0;32m      7\u001b[0m \u001b[38;5;124;43m'''\u001b[39;49m\u001b[43m)\u001b[49m\n\u001b[0;32m      8\u001b[0m connection\u001b[38;5;241m.\u001b[39mcommit()\n\u001b[0;32m      9\u001b[0m \u001b[38;5;28mprint\u001b[39m(\u001b[38;5;124m\"\u001b[39m\u001b[38;5;124mThe Contributor table has been created successfully.\u001b[39m\u001b[38;5;124m\"\u001b[39m)\n",
      "\u001b[1;31mProgrammingError\u001b[0m: ('42S01', \"[42S01] [Microsoft][ODBC SQL Server Driver][SQL Server]Il existe déjà un objet nommé 'Contributor' dans la base de données. (2714) (SQLExecDirectW)\")"
     ]
    }
   ],
   "source": [
    "\n",
    "# Create the Contributor table\n",
    "cursor.execute('''\n",
    "    CREATE TABLE Contributor (\n",
    "        contributor_id INT PRIMARY KEY IDENTITY(1,1),\n",
    "        contributor_name NVARCHAR(50)\n",
    "    )\n",
    "''')\n",
    "connection.commit()\n",
    "print(\"The Contributor table has been created successfully.\")\n"
   ]
  },
  {
   "cell_type": "markdown",
   "id": "c140a7f2",
   "metadata": {},
   "source": [
    "### Create the License table"
   ]
  },
  {
   "cell_type": "code",
   "execution_count": 260,
   "id": "dd3e94e6",
   "metadata": {},
   "outputs": [
    {
     "ename": "ProgrammingError",
     "evalue": "('42S01', \"[42S01] [Microsoft][ODBC SQL Server Driver][SQL Server]Il existe déjà un objet nommé 'License' dans la base de données. (2714) (SQLExecDirectW)\")",
     "output_type": "error",
     "traceback": [
      "\u001b[1;31m---------------------------------------------------------------------------\u001b[0m",
      "\u001b[1;31mProgrammingError\u001b[0m                          Traceback (most recent call last)",
      "Cell \u001b[1;32mIn[260], line 2\u001b[0m\n\u001b[0;32m      1\u001b[0m \u001b[38;5;66;03m# Create the License table\u001b[39;00m\n\u001b[1;32m----> 2\u001b[0m \u001b[43mcursor\u001b[49m\u001b[38;5;241;43m.\u001b[39;49m\u001b[43mexecute\u001b[49m\u001b[43m(\u001b[49m\u001b[38;5;124;43m'''\u001b[39;49m\n\u001b[0;32m      3\u001b[0m \u001b[38;5;124;43m    CREATE TABLE License (\u001b[39;49m\n\u001b[0;32m      4\u001b[0m \u001b[38;5;124;43m        license_id INT PRIMARY KEY IDENTITY(1,1),\u001b[39;49m\n\u001b[0;32m      5\u001b[0m \u001b[38;5;124;43m        license_name NVARCHAR(255)\u001b[39;49m\n\u001b[0;32m      6\u001b[0m \u001b[38;5;124;43m    )\u001b[39;49m\n\u001b[0;32m      7\u001b[0m \u001b[38;5;124;43m'''\u001b[39;49m\u001b[43m)\u001b[49m\n\u001b[0;32m      8\u001b[0m connection\u001b[38;5;241m.\u001b[39mcommit()\n\u001b[0;32m      9\u001b[0m \u001b[38;5;28mprint\u001b[39m(\u001b[38;5;124m\"\u001b[39m\u001b[38;5;124mThe License table has been created successfully.\u001b[39m\u001b[38;5;124m\"\u001b[39m)\n",
      "\u001b[1;31mProgrammingError\u001b[0m: ('42S01', \"[42S01] [Microsoft][ODBC SQL Server Driver][SQL Server]Il existe déjà un objet nommé 'License' dans la base de données. (2714) (SQLExecDirectW)\")"
     ]
    }
   ],
   "source": [
    "\n",
    "# Create the License table\n",
    "cursor.execute('''\n",
    "    CREATE TABLE License (\n",
    "        license_id INT PRIMARY KEY IDENTITY(1,1),\n",
    "        license_name NVARCHAR(255)\n",
    "    )\n",
    "''')\n",
    "connection.commit()\n",
    "print(\"The License table has been created successfully.\")\n"
   ]
  },
  {
   "cell_type": "markdown",
   "id": "c6024e38",
   "metadata": {},
   "source": [
    "### Create the Language table"
   ]
  },
  {
   "cell_type": "code",
   "execution_count": 261,
   "id": "4f13e636",
   "metadata": {},
   "outputs": [
    {
     "ename": "ProgrammingError",
     "evalue": "('42S01', \"[42S01] [Microsoft][ODBC SQL Server Driver][SQL Server]Il existe déjà un objet nommé 'Language' dans la base de données. (2714) (SQLExecDirectW)\")",
     "output_type": "error",
     "traceback": [
      "\u001b[1;31m---------------------------------------------------------------------------\u001b[0m",
      "\u001b[1;31mProgrammingError\u001b[0m                          Traceback (most recent call last)",
      "Cell \u001b[1;32mIn[261], line 2\u001b[0m\n\u001b[0;32m      1\u001b[0m \u001b[38;5;66;03m# Create the Language table\u001b[39;00m\n\u001b[1;32m----> 2\u001b[0m \u001b[43mcursor\u001b[49m\u001b[38;5;241;43m.\u001b[39;49m\u001b[43mexecute\u001b[49m\u001b[43m(\u001b[49m\u001b[38;5;124;43m'''\u001b[39;49m\n\u001b[0;32m      3\u001b[0m \u001b[38;5;124;43m    CREATE TABLE Language (\u001b[39;49m\n\u001b[0;32m      4\u001b[0m \u001b[38;5;124;43m        language_id INT PRIMARY KEY IDENTITY(1,1),\u001b[39;49m\n\u001b[0;32m      5\u001b[0m \u001b[38;5;124;43m        language_name NVARCHAR(50)\u001b[39;49m\n\u001b[0;32m      6\u001b[0m \u001b[38;5;124;43m    )\u001b[39;49m\n\u001b[0;32m      7\u001b[0m \u001b[38;5;124;43m'''\u001b[39;49m\u001b[43m)\u001b[49m\n\u001b[0;32m      8\u001b[0m connection\u001b[38;5;241m.\u001b[39mcommit()\n\u001b[0;32m      9\u001b[0m \u001b[38;5;28mprint\u001b[39m(\u001b[38;5;124m\"\u001b[39m\u001b[38;5;124mThe Language table has been created successfully.\u001b[39m\u001b[38;5;124m\"\u001b[39m)\n",
      "\u001b[1;31mProgrammingError\u001b[0m: ('42S01', \"[42S01] [Microsoft][ODBC SQL Server Driver][SQL Server]Il existe déjà un objet nommé 'Language' dans la base de données. (2714) (SQLExecDirectW)\")"
     ]
    }
   ],
   "source": [
    "# Create the Language table\n",
    "cursor.execute('''\n",
    "    CREATE TABLE Language (\n",
    "        language_id INT PRIMARY KEY IDENTITY(1,1),\n",
    "        language_name NVARCHAR(50)\n",
    "    )\n",
    "''')\n",
    "connection.commit()\n",
    "print(\"The Language table has been created successfully.\")"
   ]
  },
  {
   "cell_type": "markdown",
   "id": "341077d6",
   "metadata": {},
   "source": [
    "### Create the Owner table"
   ]
  },
  {
   "cell_type": "code",
   "execution_count": 262,
   "id": "c9a0915c",
   "metadata": {},
   "outputs": [
    {
     "ename": "ProgrammingError",
     "evalue": "('42S01', \"[42S01] [Microsoft][ODBC SQL Server Driver][SQL Server]Il existe déjà un objet nommé 'Owner' dans la base de données. (2714) (SQLExecDirectW)\")",
     "output_type": "error",
     "traceback": [
      "\u001b[1;31m---------------------------------------------------------------------------\u001b[0m",
      "\u001b[1;31mProgrammingError\u001b[0m                          Traceback (most recent call last)",
      "Cell \u001b[1;32mIn[262], line 2\u001b[0m\n\u001b[0;32m      1\u001b[0m \u001b[38;5;66;03m# Create the Owner table\u001b[39;00m\n\u001b[1;32m----> 2\u001b[0m \u001b[43mcursor\u001b[49m\u001b[38;5;241;43m.\u001b[39;49m\u001b[43mexecute\u001b[49m\u001b[43m(\u001b[49m\u001b[38;5;124;43m'''\u001b[39;49m\n\u001b[0;32m      3\u001b[0m \u001b[38;5;124;43m    CREATE TABLE Owner (\u001b[39;49m\n\u001b[0;32m      4\u001b[0m \u001b[38;5;124;43m        owner_id INT PRIMARY KEY IDENTITY(1,1),\u001b[39;49m\n\u001b[0;32m      5\u001b[0m \u001b[38;5;124;43m        owner_name NVARCHAR(50),\u001b[39;49m\n\u001b[0;32m      6\u001b[0m \u001b[38;5;124;43m        owner_type NVARCHAR(50)\u001b[39;49m\n\u001b[0;32m      7\u001b[0m \u001b[38;5;124;43m    )\u001b[39;49m\n\u001b[0;32m      8\u001b[0m \u001b[38;5;124;43m'''\u001b[39;49m\u001b[43m)\u001b[49m\n\u001b[0;32m      9\u001b[0m connection\u001b[38;5;241m.\u001b[39mcommit()\n\u001b[0;32m     10\u001b[0m \u001b[38;5;28mprint\u001b[39m(\u001b[38;5;124m\"\u001b[39m\u001b[38;5;124mThe Owner table has been created successfully.\u001b[39m\u001b[38;5;124m\"\u001b[39m)\n",
      "\u001b[1;31mProgrammingError\u001b[0m: ('42S01', \"[42S01] [Microsoft][ODBC SQL Server Driver][SQL Server]Il existe déjà un objet nommé 'Owner' dans la base de données. (2714) (SQLExecDirectW)\")"
     ]
    }
   ],
   "source": [
    "# Create the Owner table\n",
    "cursor.execute('''\n",
    "    CREATE TABLE Owner (\n",
    "        owner_id INT PRIMARY KEY IDENTITY(1,1),\n",
    "        owner_name NVARCHAR(50),\n",
    "        owner_type NVARCHAR(50)\n",
    "    )\n",
    "''')\n",
    "connection.commit()\n",
    "print(\"The Owner table has been created successfully.\")"
   ]
  },
  {
   "cell_type": "markdown",
   "id": "be15cee2",
   "metadata": {},
   "source": [
    "### Create the Repository table"
   ]
  },
  {
   "cell_type": "code",
   "execution_count": 267,
   "id": "793a6e2b",
   "metadata": {},
   "outputs": [
    {
     "name": "stdout",
     "output_type": "stream",
     "text": [
      "The Repository table has been created successfully.\n"
     ]
    }
   ],
   "source": [
    "# Create the Repository table with a defined length for the description column\n",
    "cursor.execute('''\n",
    "    CREATE TABLE Repository (\n",
    "        repository_id INT PRIMARY KEY,\n",
    "        repository_name NVARCHAR(255),\n",
    "        description NVARCHAR(4000),  \n",
    "        repository_url NVARCHAR(255),\n",
    "        language_id INT,\n",
    "        license_id INT,\n",
    "        owner_id INT,\n",
    "        stars_count INT,\n",
    "        forks_count INT,\n",
    "        created_at DATETIME,\n",
    "        updated_at DATETIME,\n",
    "        topics NVARCHAR(MAX),\n",
    "        CONSTRAINT FK_Repository_Language FOREIGN KEY (language_id) REFERENCES Language (language_id),\n",
    "        CONSTRAINT FK_Repository_License FOREIGN KEY (license_id) REFERENCES License (license_id),\n",
    "        CONSTRAINT FK_Repository_Owner FOREIGN KEY (owner_id) REFERENCES Owner (owner_id)\n",
    "    )\n",
    "''')\n",
    "connection.commit()\n",
    "print(\"The Repository table has been created successfully.\")\n"
   ]
  },
  {
   "cell_type": "markdown",
   "id": "498703c2",
   "metadata": {},
   "source": [
    "## Insert data into the License table"
   ]
  },
  {
   "cell_type": "markdown",
   "id": "ac699c94",
   "metadata": {},
   "source": [
    "### Create the Repository_Contributor table"
   ]
  },
  {
   "cell_type": "code",
   "execution_count": 284,
   "id": "756b41df",
   "metadata": {},
   "outputs": [
    {
     "name": "stdout",
     "output_type": "stream",
     "text": [
      "The Repository_Contributor table has been created successfully.\n"
     ]
    }
   ],
   "source": [
    "# Create the Repository_Contributor table\n",
    "cursor.execute('''\n",
    "    CREATE TABLE Repository_Contributor (\n",
    "        repository_id INT,\n",
    "        contributor_id INT,\n",
    "        contributions INT,\n",
    "        CONSTRAINT FK_Repository_Contributor_Repository FOREIGN KEY (repository_id) REFERENCES Repository (repository_id),\n",
    "        CONSTRAINT FK_Repository_Contributor_Contributor FOREIGN KEY (contributor_id) REFERENCES Contributor (contributor_id)\n",
    "    )\n",
    "''')\n",
    "connection.commit()\n",
    "print(\"The Repository_Contributor table has been created successfully.\")"
   ]
  },
  {
   "cell_type": "code",
   "execution_count": 268,
   "id": "8242ec2f",
   "metadata": {},
   "outputs": [
    {
     "name": "stdout",
     "output_type": "stream",
     "text": [
      "Data has been inserted into the License table.\n"
     ]
    }
   ],
   "source": [
    "# Insert data into the License table\n",
    "license_names = data['license'].dropna().unique()\n",
    "for license_name in license_names:\n",
    "    cursor.execute(\"SELECT license_name FROM License WHERE license_name = ?\", license_name)\n",
    "    if not cursor.fetchone():\n",
    "        cursor.execute(\"INSERT INTO License (license_name) VALUES (?)\", license_name)\n",
    "connection.commit()\n",
    "print(\"Data has been inserted into the License table.\")"
   ]
  },
  {
   "cell_type": "markdown",
   "id": "9afae37c",
   "metadata": {},
   "source": [
    "## Insert data into the Owner table"
   ]
  },
  {
   "cell_type": "code",
   "execution_count": 269,
   "id": "73d09300",
   "metadata": {},
   "outputs": [
    {
     "name": "stdout",
     "output_type": "stream",
     "text": [
      "Data has been inserted into the Owner table.\n"
     ]
    }
   ],
   "source": [
    "# Insert data into the Owner table\n",
    "owner_data = data[['owner_name', 'owner_type']].drop_duplicates()\n",
    "\n",
    "for _, row in owner_data.iterrows():\n",
    "    owner_name = row['owner_name']\n",
    "    owner_type = row['owner_type']\n",
    "\n",
    "    cursor.execute(\"SELECT owner_name FROM Owner WHERE owner_name = ?\", owner_name)\n",
    "    if not cursor.fetchone():\n",
    "        cursor.execute(\"INSERT INTO Owner (owner_name, owner_type) VALUES (?, ?)\", owner_name, owner_type)\n",
    "\n",
    "connection.commit()\n",
    "print(\"Data has been inserted into the Owner table.\")\n"
   ]
  },
  {
   "cell_type": "markdown",
   "id": "f2b233a7",
   "metadata": {},
   "source": [
    "## Insert data into the  Contributor table"
   ]
  },
  {
   "cell_type": "code",
   "execution_count": 270,
   "id": "fe608caa",
   "metadata": {},
   "outputs": [
    {
     "name": "stdout",
     "output_type": "stream",
     "text": [
      "Data has been inserted into the Contributor table.\n"
     ]
    }
   ],
   "source": [
    "# Insert data into the Contributor table\n",
    "contributors = data['contributor_name'].unique()\n",
    "for contributor in contributors:\n",
    "    cursor.execute(\"SELECT contributor_name FROM Contributor WHERE contributor_name = ?\", contributor)\n",
    "    if not cursor.fetchone():\n",
    "        cursor.execute(\"INSERT INTO Contributor (contributor_name) VALUES (?)\", contributor)\n",
    "connection.commit()\n",
    "print(\"Data has been inserted into the Contributor table.\")"
   ]
  },
  {
   "cell_type": "markdown",
   "id": "310948d4",
   "metadata": {},
   "source": [
    "## Insert data into the Language table"
   ]
  },
  {
   "cell_type": "code",
   "execution_count": 275,
   "id": "45e0aa1a",
   "metadata": {},
   "outputs": [
    {
     "name": "stdout",
     "output_type": "stream",
     "text": [
      "Data has been inserted into the Language table.\n"
     ]
    }
   ],
   "source": [
    "# Insert data into the Language table\n",
    "languages = data['language_name'].dropna().unique()\n",
    "for language in languages:\n",
    "    cursor.execute(\"SELECT Language_name FROM Language WHERE language_name = ?\", language)\n",
    "    if not cursor.fetchone():\n",
    "        cursor.execute(\"INSERT INTO Language (language_name) VALUES (?)\", language)\n",
    "connection.commit()\n",
    "print(\"Data has been inserted into the Language table.\")\n"
   ]
  },
  {
   "cell_type": "code",
   "execution_count": null,
   "id": "7910c085",
   "metadata": {},
   "outputs": [],
   "source": [
    "# Select all data from the License table\n",
    "select_query = \"SELECT * FROM Repository_Contributor\"\n",
    "cursor.execute(select_query)\n",
    "\n",
    "# Fetch all rows from the result set\n",
    "rows = cursor.fetchall()\n",
    "\n",
    "# Iterate over the rows and print the data\n",
    "for row in rows:\n",
    "    print(row)"
   ]
  },
  {
   "cell_type": "markdown",
   "id": "c4a8a8c3",
   "metadata": {},
   "source": [
    "### Insert data to Repository"
   ]
  },
  {
   "cell_type": "code",
   "execution_count": 281,
   "id": "f42af50d",
   "metadata": {},
   "outputs": [
    {
     "name": "stdout",
     "output_type": "stream",
     "text": [
      "Data has been inserted into the Repository table.\n"
     ]
    }
   ],
   "source": [
    "import json\n",
    "from datetime import datetime\n",
    "\n",
    "# Helper function to parse topics string to a list\n",
    "def parse_topics(topics_str):\n",
    "    if topics_str == \"[]\":\n",
    "        return [\"NO TOPIC\"]\n",
    "    else:\n",
    "        return [topic.strip() for topic in topics_str.strip(\"[]\").split(\",\")]\n",
    "\n",
    "# Insert data into the Repository table\n",
    "for row in data.itertuples():\n",
    "    # Check if the repository already exists in the table\n",
    "    cursor.execute(\"SELECT COUNT(*) FROM Repository WHERE repository_id = ?\", row[1])  # Use index 1 for repository_id\n",
    "    if cursor.fetchone()[0] == 0:\n",
    "        # Convert datetime strings to datetime objects\n",
    "        created_at = datetime.strptime(row[11], \"%Y-%m-%d %H:%M:%S\")  # Use index 11 for created_at\n",
    "        updated_at = datetime.strptime(row[12], \"%Y-%m-%d %H:%M:%S\")  # Use index 12 for updated_at\n",
    "        \n",
    "        # Parse topics string to a list of topic names\n",
    "        topics = parse_topics(row[6])  # Use index 6 for topics\n",
    "        \n",
    "        # Convert the list of topic names to a JSON string\n",
    "        topics_json = json.dumps(topics)\n",
    "        \n",
    "        cursor.execute('''\n",
    "            INSERT INTO Repository (\n",
    "                repository_id, repository_name, description, repository_url, language_id, license_id, owner_id,\n",
    "                stars_count, forks_count, created_at, updated_at, topics\n",
    "            )\n",
    "            VALUES (?, ?, ?, ?, (SELECT language_id FROM Language WHERE language_name = ?), \n",
    "            (SELECT license_id FROM License WHERE license_name = ?), \n",
    "            (SELECT owner_id FROM Owner WHERE owner_name = ?), ?, ?, ?, ?, ?)\n",
    "        ''', row[1], row[2], row[8], row[3], row[4], row[5], row[14], row[9], row[10], created_at, updated_at, topics_json)\n",
    "connection.commit()\n",
    "print(\"Data has been inserted into the Repository table.\")\n"
   ]
  },
  {
   "cell_type": "markdown",
   "id": "00acbb8d",
   "metadata": {},
   "source": [
    "### Insert data into the Repository_Contributor table"
   ]
  },
  {
   "cell_type": "code",
   "execution_count": 285,
   "id": "16d4b3c9",
   "metadata": {},
   "outputs": [
    {
     "name": "stdout",
     "output_type": "stream",
     "text": [
      "Data has been inserted into the Repository_Contributor table.\n"
     ]
    }
   ],
   "source": [
    "# Insert data into the Repository_Contributor table\n",
    "for row in data.itertuples():\n",
    "    repository_id = row.repository_id\n",
    "    contributor_name = row.contributor_name\n",
    "    contributions = row.contributions\n",
    "\n",
    "    # Check if the contributor already exists in the Contributor table\n",
    "    cursor.execute(\"SELECT contributor_id FROM Contributor WHERE contributor_name = ?\", contributor_name)\n",
    "    contributor_result = cursor.fetchone()\n",
    "\n",
    "    # If the contributor exists, use the existing contributor_id\n",
    "    if contributor_result:\n",
    "        contributor_id = contributor_result[0]\n",
    "    else:\n",
    "        # If the contributor doesn't exist, insert them into the Contributor table and get the generated contributor_id\n",
    "        cursor.execute(\"INSERT INTO Contributor (contributor_name) VALUES (?)\", contributor_name)\n",
    "        connection.commit()\n",
    "        contributor_id = cursor.lastrowid\n",
    "\n",
    "    # Insert the data into the Repository_Contributor table using repository_id, contributor_id, and contributions\n",
    "    cursor.execute('''\n",
    "        INSERT INTO Repository_Contributor (repository_id, contributor_id, contributions)\n",
    "        VALUES (?, ?, ?)\n",
    "    ''', repository_id, contributor_id, contributions)\n",
    "\n",
    "connection.commit()\n",
    "print(\"Data has been inserted into the Repository_Contributor table.\")\n"
   ]
  },
  {
   "cell_type": "markdown",
   "id": "be6b201b",
   "metadata": {},
   "source": [
    "## Create Indexes for tables"
   ]
  },
  {
   "cell_type": "code",
   "execution_count": 287,
   "id": "428f3af8",
   "metadata": {},
   "outputs": [
    {
     "name": "stdout",
     "output_type": "stream",
     "text": [
      "Indexes have been created for the  tables.\n"
     ]
    }
   ],
   "source": [
    "# Add an index on the contributor_id column\n",
    "cursor.execute('''\n",
    "    CREATE INDEX IX_Contributor_contributor_id\n",
    "    ON Contributor (contributor_id)\n",
    "''')\n",
    "\n",
    "# Add an index on the contributor_name column\n",
    "cursor.execute('''\n",
    "    CREATE INDEX IX_Contributor_contributor_name\n",
    "    ON Contributor (contributor_name)\n",
    "''')\n",
    "\n",
    "\n",
    "# Add an index on the language_id column\n",
    "cursor.execute('''\n",
    "    CREATE INDEX IX_Language_language_id\n",
    "    ON Language (language_id)\n",
    "''')\n",
    "\n",
    "# Add an index on the language_name column\n",
    "cursor.execute('''\n",
    "    CREATE INDEX IX_Language_language_name\n",
    "    ON Language (language_name)\n",
    "''')\n",
    "\n",
    "\n",
    "# Add an index on the license_id column\n",
    "cursor.execute('''\n",
    "    CREATE INDEX IX_License_license_id\n",
    "    ON License (license_id)\n",
    "''')\n",
    "\n",
    "# Add an index on the license_name column\n",
    "cursor.execute('''\n",
    "    CREATE INDEX IX_License_license_name\n",
    "    ON License (license_name)\n",
    "''')\n",
    "\n",
    "\n",
    "\n",
    "# Add an index on the owner_id column\n",
    "cursor.execute('''\n",
    "    CREATE INDEX IX_Owner_owner_id\n",
    "    ON Owner (owner_id)\n",
    "''')\n",
    "\n",
    "# Add an index on the owner_name column\n",
    "cursor.execute('''\n",
    "    CREATE INDEX IX_Owner_owner_name\n",
    "    ON Owner (owner_name)\n",
    "''')\n",
    "\n",
    "\n",
    "# Add an index on the repository_id column\n",
    "cursor.execute('''\n",
    "    CREATE INDEX IX_Repository_repository_id\n",
    "    ON Repository (repository_id)\n",
    "''')\n",
    "\n",
    "# Add an index on the repository_name column\n",
    "cursor.execute('''\n",
    "    CREATE INDEX IX_Repository_repository_name\n",
    "    ON Repository (repository_name)\n",
    "''')\n",
    "\n",
    "\n",
    "# Add an index on the repository_id column\n",
    "cursor.execute('''\n",
    "    CREATE INDEX IX_Repository_Contributor_repository_id\n",
    "    ON Repository_Contributor (repository_id)\n",
    "''')\n",
    "\n",
    "# Add an index on the contributor_id column\n",
    "cursor.execute('''\n",
    "    CREATE INDEX IX_Repository_Contributor_contributor_id\n",
    "    ON Repository_Contributor (contributor_id)\n",
    "''')\n",
    "\n",
    "connection.commit()\n",
    "print(\"Indexes have been created for tables.\")\n"
   ]
  },
  {
   "cell_type": "code",
   "execution_count": 264,
   "id": "004ff4a7",
   "metadata": {},
   "outputs": [],
   "source": [
    "# Close the cursor and connection\n",
    "cursor.close()\n",
    "connection.close()"
   ]
  }
 ],
 "metadata": {
  "kernelspec": {
   "display_name": "Python 3 (ipykernel)",
   "language": "python",
   "name": "python3"
  },
  "language_info": {
   "codemirror_mode": {
    "name": "ipython",
    "version": 3
   },
   "file_extension": ".py",
   "mimetype": "text/x-python",
   "name": "python",
   "nbconvert_exporter": "python",
   "pygments_lexer": "ipython3",
   "version": "3.11.3"
  }
 },
 "nbformat": 4,
 "nbformat_minor": 5
}
