{
 "cells": [
  {
   "cell_type": "code",
   "execution_count": 1,
   "id": "7dc58d1a",
   "metadata": {},
   "outputs": [],
   "source": [
    "import pandas as pd\n",
    "import re\n",
    "import pycountry\n",
    "from geotext import GeoText\n",
    "import missingno as msno"
   ]
  },
  {
   "cell_type": "code",
   "execution_count": 2,
   "id": "dade9e06",
   "metadata": {},
   "outputs": [],
   "source": [
    "data = pd.read_csv(\"job-64bd250cb0899621267166.csv\" ,encoding='latin')"
   ]
  },
  {
   "cell_type": "markdown",
   "id": "7b472093",
   "metadata": {},
   "source": [
    "# *<span style=\"color:blue\">Data Exploration and Cleansing</span>*"
   ]
  },
  {
   "cell_type": "code",
   "execution_count": null,
   "id": "db3c16e1",
   "metadata": {
    "scrolled": true
   },
   "outputs": [],
   "source": [
    "pd.set_option('display.max_rows', None)\n",
    "data"
   ]
  },
  {
   "cell_type": "code",
   "execution_count": 318,
   "id": "98d9ef0b",
   "metadata": {
    "scrolled": true
   },
   "outputs": [
    {
     "name": "stdout",
     "output_type": "stream",
     "text": [
      "<class 'pandas.core.frame.DataFrame'>\n",
      "RangeIndex: 3198 entries, 0 to 3197\n",
      "Data columns (total 8 columns):\n",
      " #   Column                      Non-Null Count  Dtype \n",
      "---  ------                      --------------  ----- \n",
      " 0   Company                     3197 non-null   object\n",
      " 1   Job Title                   3197 non-null   object\n",
      " 2   Location                    3197 non-null   object\n",
      " 3   Job Type                    3197 non-null   object\n",
      " 4   Experience level            2962 non-null   object\n",
      " 5   Salary                      3009 non-null   object\n",
      " 6   Requirment of the company   3198 non-null   object\n",
      " 7   Facilities                  3198 non-null   object\n",
      "dtypes: object(8)\n",
      "memory usage: 200.0+ KB\n"
     ]
    }
   ],
   "source": [
    "data.info()"
   ]
  },
  {
   "cell_type": "code",
   "execution_count": 319,
   "id": "c35b3ba3",
   "metadata": {},
   "outputs": [
    {
     "data": {
      "text/html": [
       "<div>\n",
       "<style scoped>\n",
       "    .dataframe tbody tr th:only-of-type {\n",
       "        vertical-align: middle;\n",
       "    }\n",
       "\n",
       "    .dataframe tbody tr th {\n",
       "        vertical-align: top;\n",
       "    }\n",
       "\n",
       "    .dataframe thead th {\n",
       "        text-align: right;\n",
       "    }\n",
       "</style>\n",
       "<table border=\"1\" class=\"dataframe\">\n",
       "  <thead>\n",
       "    <tr style=\"text-align: right;\">\n",
       "      <th></th>\n",
       "      <th>Company</th>\n",
       "      <th>Job Title</th>\n",
       "      <th>Location</th>\n",
       "      <th>Job Type</th>\n",
       "      <th>Experience level</th>\n",
       "      <th>Salary</th>\n",
       "      <th>Requirment of the company</th>\n",
       "      <th>Facilities</th>\n",
       "    </tr>\n",
       "  </thead>\n",
       "  <tbody>\n",
       "    <tr>\n",
       "      <th>count</th>\n",
       "      <td>3197</td>\n",
       "      <td>3197</td>\n",
       "      <td>3197</td>\n",
       "      <td>3197</td>\n",
       "      <td>2962</td>\n",
       "      <td>3009</td>\n",
       "      <td>3198</td>\n",
       "      <td>3198</td>\n",
       "    </tr>\n",
       "    <tr>\n",
       "      <th>unique</th>\n",
       "      <td>1106</td>\n",
       "      <td>2138</td>\n",
       "      <td>1117</td>\n",
       "      <td>3</td>\n",
       "      <td>4</td>\n",
       "      <td>218</td>\n",
       "      <td>2600</td>\n",
       "      <td>777</td>\n",
       "    </tr>\n",
       "    <tr>\n",
       "      <th>top</th>\n",
       "      <td>Publicis Groupe</td>\n",
       "      <td>Data Engineer</td>\n",
       "      <td>Bengaluru, India</td>\n",
       "      <td>Full Time</td>\n",
       "      <td>Senior-level</td>\n",
       "      <td>115K+ *</td>\n",
       "      <td>Big Data,Business Intelligence,Data analysis,E...</td>\n",
       "      <td>,,,,</td>\n",
       "    </tr>\n",
       "    <tr>\n",
       "      <th>freq</th>\n",
       "      <td>126</td>\n",
       "      <td>105</td>\n",
       "      <td>90</td>\n",
       "      <td>3116</td>\n",
       "      <td>1876</td>\n",
       "      <td>253</td>\n",
       "      <td>12</td>\n",
       "      <td>542</td>\n",
       "    </tr>\n",
       "  </tbody>\n",
       "</table>\n",
       "</div>"
      ],
      "text/plain": [
       "                Company      Job Title          Location   Job Type  \\\n",
       "count              3197           3197              3197       3197   \n",
       "unique             1106           2138              1117          3   \n",
       "top     Publicis Groupe  Data Engineer  Bengaluru, India  Full Time   \n",
       "freq                126            105                90       3116   \n",
       "\n",
       "       Experience level    Salary  \\\n",
       "count              2962      3009   \n",
       "unique                4       218   \n",
       "top        Senior-level   115K+ *   \n",
       "freq               1876       253   \n",
       "\n",
       "                               Requirment of the company  Facilities  \n",
       "count                                                3198       3198  \n",
       "unique                                               2600        777  \n",
       "top     Big Data,Business Intelligence,Data analysis,E...       ,,,,  \n",
       "freq                                                   12        542  "
      ]
     },
     "execution_count": 319,
     "metadata": {},
     "output_type": "execute_result"
    }
   ],
   "source": [
    "data.describe()"
   ]
  },
  {
   "cell_type": "markdown",
   "id": "348f51ff",
   "metadata": {},
   "source": [
    "## *<span style=\"color:green\">Duplicate Values</span>*"
   ]
  },
  {
   "cell_type": "code",
   "execution_count": 320,
   "id": "880b0c8a",
   "metadata": {},
   "outputs": [],
   "source": [
    "valeurs_redondant = data.duplicated().sum()"
   ]
  },
  {
   "cell_type": "code",
   "execution_count": 321,
   "id": "991a49a3",
   "metadata": {},
   "outputs": [
    {
     "data": {
      "text/plain": [
       "202"
      ]
     },
     "execution_count": 321,
     "metadata": {},
     "output_type": "execute_result"
    }
   ],
   "source": [
    "valeurs_redondant"
   ]
  },
  {
   "cell_type": "code",
   "execution_count": 322,
   "id": "dfe1fd96",
   "metadata": {},
   "outputs": [],
   "source": [
    "data.drop_duplicates(inplace=True)"
   ]
  },
  {
   "cell_type": "markdown",
   "id": "bb3fa31c",
   "metadata": {},
   "source": [
    "## *<span style=\"color:green\">Null Values</span>*"
   ]
  },
  {
   "cell_type": "code",
   "execution_count": 4,
   "id": "c69f4c9a",
   "metadata": {
    "scrolled": true
   },
   "outputs": [
    {
     "data": {
      "text/plain": [
       "Company                         1\n",
       "Job Title                       1\n",
       "Location                        1\n",
       "Job Type                        1\n",
       "Experience level              236\n",
       "Salary                        189\n",
       "Requirment of the company       0\n",
       "Facilities                      0\n",
       "dtype: int64"
      ]
     },
     "execution_count": 4,
     "metadata": {},
     "output_type": "execute_result"
    }
   ],
   "source": [
    "valueres_manquants = data.isna().sum()\n",
    "valueres_manquants"
   ]
  },
  {
   "cell_type": "code",
   "execution_count": 3,
   "id": "80e6b783",
   "metadata": {},
   "outputs": [
    {
     "data": {
      "text/plain": [
       "<Axes: >"
      ]
     },
     "execution_count": 3,
     "metadata": {},
     "output_type": "execute_result"
    },
    {
     "data": {
      "image/png": "[encoded data removed]",
      "text/plain": [
       "<Figure size 2500x1000 with 2 Axes>"
      ]
     },
     "metadata": {},
     "output_type": "display_data"
    }
   ],
   "source": [
    "msno.matrix(data)"
   ]
  },
  {
   "cell_type": "code",
   "execution_count": null,
   "id": "554997d3",
   "metadata": {},
   "outputs": [],
   "source": []
  },
  {
   "cell_type": "code",
   "execution_count": 324,
   "id": "db8a1b33",
   "metadata": {},
   "outputs": [
    {
     "data": {
      "text/plain": [
       "488"
      ]
     },
     "execution_count": 324,
     "metadata": {},
     "output_type": "execute_result"
    }
   ],
   "source": [
    "# check if the Facilities column has some values that are Null but just filled with commas\n",
    "len(data[data['Facilities'] == ',,,,'])"
   ]
  },
  {
   "cell_type": "code",
   "execution_count": null,
   "id": "8616c8eb",
   "metadata": {},
   "outputs": [],
   "source": [
    "\n",
    "\n",
    "# Use regex to handle multiple consecutive commas and replace them with a single comma\n",
    "data['Facilities'] = data['Facilities'].str.replace(r',{2,}', ',')\n",
    "\n",
    "# Use str.strip() to remove any leading or trailing commas\n",
    "data['Facilities'] = data['Facilities'].str.strip(',')\n",
    "\n",
    "pd.set_option('display.max_rows', None)\n",
    "# Display the updated 'Facilities' column\n",
    "display(data['Facilities'])"
   ]
  },
  {
   "cell_type": "code",
   "execution_count": 392,
   "id": "bf631c13",
   "metadata": {},
   "outputs": [],
   "source": [
    "# Fill empty values in the 'Facilities' column with 'Not specified'\n",
    "data['Facilities'] = data['Facilities'].fillna('Not specified')"
   ]
  },
  {
   "cell_type": "code",
   "execution_count": null,
   "id": "b696432d",
   "metadata": {},
   "outputs": [],
   "source": [
    "# Fill empty values in the 'Facilities' column with 'Not specified'\n",
    "data['Company_requirement'] = data['Company_requirement'].fillna('Not specified')\n",
    "\n",
    "# Use regex to handle multiple consecutive commas and replace them with a single comma\n",
    "data['Company_requirement'] = data['Company_requirement'].str.replace(r',{2,}', ',')\n",
    "\n",
    "# Use str.strip() to remove any leading or trailing commas\n",
    "data['Company_requirement'] = data['Company_requirement'].str.strip(',')\n",
    "\n",
    "pd.set_option('display.max_rows', None)\n",
    "# Display the updated 'Facilities' column\n",
    "display(data['Company_requirement'])"
   ]
  },
  {
   "cell_type": "markdown",
   "id": "f1cd2db3",
   "metadata": {},
   "source": [
    "## *<span style=\"color:green\">Comapny</span>*"
   ]
  },
  {
   "cell_type": "code",
   "execution_count": 326,
   "id": "e50fea00",
   "metadata": {},
   "outputs": [],
   "source": [
    "distinct_comapny = data[\"Company\"].unique().tolist()"
   ]
  },
  {
   "cell_type": "code",
   "execution_count": null,
   "id": "8464d333",
   "metadata": {},
   "outputs": [],
   "source": [
    "distinct_comapny"
   ]
  },
  {
   "cell_type": "code",
   "execution_count": 328,
   "id": "61a07a03",
   "metadata": {},
   "outputs": [
    {
     "data": {
      "text/plain": [
       "1107"
      ]
     },
     "execution_count": 328,
     "metadata": {},
     "output_type": "execute_result"
    }
   ],
   "source": [
    "len(distinct_comapny)"
   ]
  },
  {
   "cell_type": "markdown",
   "id": "433ec88f",
   "metadata": {},
   "source": [
    "## *<span style=\"color:green\">Salary</span>*"
   ]
  },
  {
   "cell_type": "code",
   "execution_count": 329,
   "id": "53ed27c7",
   "metadata": {},
   "outputs": [],
   "source": [
    "distinct_Salary = data[\"Salary\"].unique().tolist()"
   ]
  },
  {
   "cell_type": "code",
   "execution_count": null,
   "id": "192e31d1",
   "metadata": {},
   "outputs": [],
   "source": [
    "distinct_Salary"
   ]
  },
  {
   "cell_type": "code",
   "execution_count": 331,
   "id": "a54917c3",
   "metadata": {},
   "outputs": [
    {
     "data": {
      "text/plain": [
       "219"
      ]
     },
     "execution_count": 331,
     "metadata": {},
     "output_type": "execute_result"
    }
   ],
   "source": [
    "len(distinct_Salary)"
   ]
  },
  {
   "cell_type": "code",
   "execution_count": 332,
   "id": "2ba7d2fd",
   "metadata": {},
   "outputs": [],
   "source": [
    "values_count = data[\"Salary\"].value_counts()"
   ]
  },
  {
   "cell_type": "code",
   "execution_count": null,
   "id": "9fd47bb6",
   "metadata": {},
   "outputs": [],
   "source": [
    "# Exchange rates dictionary\n",
    "exchange_rates = {\n",
    "    'EUR': 1.11,\n",
    "    'GBP': 1.28,\n",
    "}\n",
    "\n",
    "# Function to convert salary to USD\n",
    "def convert_to_usd(salary):\n",
    "    try:\n",
    "        salary_value = float(''.join(filter(lambda x: x.isdigit() or x in ['.', ','], salary)))\n",
    "\n",
    "        currency_code = re.search(r'[A-Z]{3}', salary)\n",
    "        if currency_code:\n",
    "            currency_code = currency_code.group()\n",
    "        else:\n",
    "            currency_code = 'USD'\n",
    "\n",
    "        if currency_code in exchange_rates:\n",
    "            exchange_rate = exchange_rates[currency_code]\n",
    "            salary_value *= 1000\n",
    "            salary_usd = salary_value * exchange_rate\n",
    "            return salary_usd\n",
    "        else:\n",
    "            salary_value *= 1000\n",
    "            salary_usd = salary_value\n",
    "            return salary_usd\n",
    "    except:\n",
    "        return None\n",
    "\n",
    "# Apply the conversion function to \"Salary\" column and create the new \"Salary (USD)\" column\n",
    "data['Salary (USD)'] = data['Salary'].apply(convert_to_usd)\n",
    "\n",
    "# Drop the \"Salary\" column\n",
    "data.drop(columns=['Salary'], inplace=True)\n",
    "\n",
    "# Display the updated DataFrame\n",
    "pd.set_option('display.max_rows', None)\n",
    "display(data)\n"
   ]
  },
  {
   "cell_type": "code",
   "execution_count": 334,
   "id": "309625c1",
   "metadata": {
    "scrolled": true
   },
   "outputs": [
    {
     "name": "stdout",
     "output_type": "stream",
     "text": [
      "  Experience level  Count\n",
      "0      Entry-level    113\n",
      "1  Executive-level      5\n",
      "2        Mid-level      5\n",
      "3     Senior-level     45\n"
     ]
    }
   ],
   "source": [
    "null_salary_counts = data[data['Salary (USD)'].isnull()].groupby('Experience level').size().reset_index(name='Count')\n",
    "\n",
    "print(null_salary_counts)\n"
   ]
  },
  {
   "cell_type": "code",
   "execution_count": null,
   "id": "c8fdcbf4",
   "metadata": {
    "scrolled": true
   },
   "outputs": [],
   "source": [
    "null_salary_counts = data[data['Experience level'].isnull()].groupby('Salary (USD)').size().reset_index(name='Count')\n",
    "\n",
    "print(null_salary_counts)\n"
   ]
  },
  {
   "cell_type": "code",
   "execution_count": null,
   "id": "78cc7309",
   "metadata": {},
   "outputs": [],
   "source": []
  },
  {
   "cell_type": "code",
   "execution_count": 336,
   "id": "bf44cd24",
   "metadata": {},
   "outputs": [],
   "source": [
    "#Replace data null of Salary column with 'No salary'\n",
    "data['Salary (USD)'].fillna('0',inplace=True)"
   ]
  },
  {
   "cell_type": "markdown",
   "id": "b45c519e",
   "metadata": {},
   "source": [
    "## *<span style=\"color:green\">Experience level</span>*"
   ]
  },
  {
   "cell_type": "code",
   "execution_count": 337,
   "id": "a662b0db",
   "metadata": {},
   "outputs": [],
   "source": [
    "#Replace data null of Experience column with 'Not specified'\n",
    "data['Experience level'].fillna('Not specified',inplace=True)"
   ]
  },
  {
   "cell_type": "code",
   "execution_count": null,
   "id": "bb8b20e9",
   "metadata": {},
   "outputs": [],
   "source": []
  },
  {
   "cell_type": "markdown",
   "id": "83e6191a",
   "metadata": {},
   "source": [
    "## *<span style=\"color:green\">Location</span>*"
   ]
  },
  {
   "cell_type": "code",
   "execution_count": 338,
   "id": "ed4a9323",
   "metadata": {},
   "outputs": [],
   "source": [
    "distinct_location = data[\"Location\"].unique().tolist()"
   ]
  },
  {
   "cell_type": "code",
   "execution_count": null,
   "id": "c150465a",
   "metadata": {},
   "outputs": [],
   "source": [
    "distinct_location"
   ]
  },
  {
   "cell_type": "code",
   "execution_count": 340,
   "id": "9f739c80",
   "metadata": {},
   "outputs": [
    {
     "data": {
      "text/plain": [
       "1118"
      ]
     },
     "execution_count": 340,
     "metadata": {},
     "output_type": "execute_result"
    }
   ],
   "source": [
    "len(distinct_location)"
   ]
  },
  {
   "cell_type": "code",
   "execution_count": 391,
   "id": "06fd4979",
   "metadata": {
    "scrolled": true
   },
   "outputs": [
    {
     "data": {
      "text/plain": [
       "Company                  0\n",
       "Job Title                0\n",
       "Location                 0\n",
       "Job Type                 0\n",
       "Experience level         0\n",
       "Company_requirement      0\n",
       "Facilities             487\n",
       "Salary (USD)             0\n",
       "Job Format               0\n",
       "country                  0\n",
       "city                     0\n",
       "Domain                   0\n",
       "dtype: int64"
      ]
     },
     "execution_count": 391,
     "metadata": {},
     "output_type": "execute_result"
    }
   ],
   "source": [
    "valueres_manquants = data.isna().sum()\n",
    "valueres_manquants"
   ]
  },
  {
   "cell_type": "code",
   "execution_count": null,
   "id": "df4bb9f9",
   "metadata": {},
   "outputs": [],
   "source": [
    "import re\n",
    "from geotext import GeoText\n",
    "from geopy.geocoders import Nominatim\n",
    "import pycountry\n",
    "\n",
    "\n",
    "# Function to extract job format from the location\n",
    "def extract_job_format(location):\n",
    "    patterns = [\n",
    "        r'Remote\\b',\n",
    "        r'in-[^,]+',\n",
    "        r'\\b(Open\\s+to\\s+)?Remote\\b',\n",
    "        r'Worldwide\\b',\n",
    "        r'\\b(Open\\s+to\\s+)?\\w+\\s*\\(\\w+\\)\\b',\n",
    "        r'\\b(Open\\s+to\\s+)?\\w+\\s*-\\s*Remote\\b'\n",
    "    ]\n",
    "\n",
    "    for pattern in patterns:\n",
    "        match = re.search(pattern, str(location))\n",
    "        if match:\n",
    "            return match.group(0).strip()\n",
    "\n",
    "    return 'In location'\n",
    "\n",
    "# Apply the function to the \"Location\" column to create the \"Job Format\" column\n",
    "data['Job Format'] = data['Location'].astype(str).apply(extract_job_format)\n",
    "\n",
    "\n",
    "\n",
    "from geopy.geocoders import Nominatim\n",
    "import pycountry\n",
    "\n",
    "def get_country_from_location(txt):\n",
    "    \"\"\"\n",
    "    Get the country name from the location string.\n",
    "\n",
    "    Parameters:\n",
    "        txt (str): The location string.\n",
    "\n",
    "    Returns:\n",
    "        str or None: The country name if found, or None if not found.\n",
    "    \"\"\"\n",
    "    if pd.notnull(txt):  # Check if the value is not NaN\n",
    "        # Create a geolocator instance\n",
    "        geolocator = Nominatim(user_agent=\"geoapiExercises\")\n",
    "\n",
    "        # Try to geocode the location string to get location details\n",
    "        try:\n",
    "            location = geolocator.geocode(txt, language=\"en\")\n",
    "            if location and location.address:\n",
    "                # Search for country name in the address details\n",
    "                for country in pycountry.countries:\n",
    "                    if country.name.lower() in location.address.lower():\n",
    "                        return country.name\n",
    "        except:\n",
    "            pass\n",
    "\n",
    "    return None\n",
    "\n",
    "\n",
    "\n",
    "\n",
    "\n",
    "def get_city_from_location(txt):\n",
    "    \"\"\"\n",
    "    Get the city name from the location string.\n",
    "\n",
    "    Parameters:\n",
    "        txt (str): The location string.\n",
    "\n",
    "    Returns:\n",
    "        str or None: The city name if found, or None if not found.\n",
    "    \"\"\"\n",
    "    if pd.notnull(txt):  # Check if the value is not NaN\n",
    "        geo_text = GeoText(txt)\n",
    "        cities = geo_text.cities\n",
    "        if cities:\n",
    "            return cities[0]\n",
    "    return None\n",
    "\n",
    "# Create 'country' and 'city' columns\n",
    "data['country'] = data['Location'].apply(get_country_from_location)\n",
    "data['city'] = data['Location'].apply(get_city_from_location)\n",
    "data"
   ]
  },
  {
   "cell_type": "code",
   "execution_count": 343,
   "id": "1d296b64",
   "metadata": {},
   "outputs": [],
   "source": [
    "\n",
    "def get_country_from_city(city):\n",
    "    \"\"\"\n",
    "    Get the country name from the city name.\n",
    "\n",
    "    Parameters:\n",
    "        city (str): The city name.\n",
    "\n",
    "    Returns:\n",
    "        str or None: The country name if found, or None if not found.\n",
    "    \"\"\"\n",
    "    if pd.notnull(city):  # Check if the value is not NaN\n",
    "        # Create a geolocator instance\n",
    "        geolocator = Nominatim(user_agent=\"geoapiExercises\")\n",
    "\n",
    "        # Try to geocode the city name to get location details\n",
    "        try:\n",
    "            location = geolocator.geocode(city, language=\"en\")\n",
    "            if location and location.address:\n",
    "                # Search for country name in the address details\n",
    "                for country in pycountry.countries:\n",
    "                    if country.name.lower() in location.address.lower():\n",
    "                        return country.name\n",
    "        except:\n",
    "            pass\n",
    "\n",
    "    return None\n",
    "\n",
    "# Fill missing values in 'country' column based on 'city' column\n",
    "data.loc[data['country'].isnull(), 'country'] = data['city'].apply(get_country_from_city)\n"
   ]
  },
  {
   "cell_type": "code",
   "execution_count": null,
   "id": "269922d9",
   "metadata": {
    "scrolled": true
   },
   "outputs": [],
   "source": [
    "# Filter the DataFrame to show rows with null country and Location containing 'remote'\n",
    "null_country_rows_remote = data.loc[data['country'].isna() & data['Location'].str.contains('remote', case=False, na=False)]\n",
    "\n",
    "# Print the 'Location' values\n",
    "print(\"Location values:\")\n",
    "print(null_country_rows_remote['Location'].values)\n",
    "\n",
    "# Print the count of each value\n",
    "print(\"Count of each value:\")\n",
    "print(null_country_rows_remote['Location'].value_counts())\n",
    "\n"
   ]
  },
  {
   "cell_type": "code",
   "execution_count": 345,
   "id": "7baa755e",
   "metadata": {},
   "outputs": [],
   "source": [
    "# Update the 'country' column for the filtered rows\n",
    "data.loc[data['country'].isna() & data['Location'].str.contains('remote', case=False, na=False), 'country'] = 'Remote Worldwide'\n"
   ]
  },
  {
   "cell_type": "code",
   "execution_count": 346,
   "id": "75d18018",
   "metadata": {},
   "outputs": [],
   "source": [
    "data['country'] = data['country'].fillna('Not exists')"
   ]
  },
  {
   "cell_type": "code",
   "execution_count": 395,
   "id": "5c35a02d",
   "metadata": {},
   "outputs": [
    {
     "data": {
      "text/plain": [
       "Company                0\n",
       "Job Title              0\n",
       "Location               0\n",
       "Job Type               0\n",
       "Experience level       0\n",
       "Company_requirement    0\n",
       "Facilities             0\n",
       "Salary (USD)           0\n",
       "Job Format             0\n",
       "country                0\n",
       "city                   0\n",
       "Domain                 0\n",
       "dtype: int64"
      ]
     },
     "execution_count": 395,
     "metadata": {},
     "output_type": "execute_result"
    }
   ],
   "source": [
    "valueres_manquants = data.isna().sum()\n",
    "valueres_manquants"
   ]
  },
  {
   "cell_type": "code",
   "execution_count": 348,
   "id": "7aade156",
   "metadata": {},
   "outputs": [],
   "source": [
    "data['city'].fillna('Not City', inplace= True)"
   ]
  },
  {
   "cell_type": "code",
   "execution_count": 349,
   "id": "afc2880e",
   "metadata": {},
   "outputs": [],
   "source": [
    "data.to_csv(\"data_final.csv\", index= False)"
   ]
  },
  {
   "cell_type": "code",
   "execution_count": 350,
   "id": "7bc95c36",
   "metadata": {},
   "outputs": [],
   "source": [
    "data = pd.read_csv(\"data_final.csv\")"
   ]
  },
  {
   "cell_type": "code",
   "execution_count": null,
   "id": "2ecee191",
   "metadata": {},
   "outputs": [],
   "source": [
    "data"
   ]
  },
  {
   "cell_type": "markdown",
   "id": "cc601685",
   "metadata": {},
   "source": [
    "## <span style=\"color:green\">Job Title</span>"
   ]
  },
  {
   "cell_type": "code",
   "execution_count": 352,
   "id": "fc08b275",
   "metadata": {},
   "outputs": [],
   "source": [
    "distinct_Job_Title = data[\"Job Title\"].unique().tolist()"
   ]
  },
  {
   "cell_type": "code",
   "execution_count": null,
   "id": "8aaf9146",
   "metadata": {},
   "outputs": [],
   "source": [
    "distinct_Job_Title"
   ]
  },
  {
   "cell_type": "markdown",
   "id": "149363a8",
   "metadata": {},
   "source": [
    "## *<span style=\"color:green\">Company requirement</span>*"
   ]
  },
  {
   "cell_type": "code",
   "execution_count": 354,
   "id": "37fa2e47",
   "metadata": {},
   "outputs": [],
   "source": [
    "data.rename(columns={'Requirment of the company ': 'Company_requirement'}, inplace=True)\n"
   ]
  },
  {
   "cell_type": "code",
   "execution_count": 396,
   "id": "f73708f0",
   "metadata": {},
   "outputs": [],
   "source": [
    "# Fill empty values with \"Not specified\" in the 'Company_requirement' column\n",
    "data_filtered['Company_requirement'].fillna('Not specified', inplace=True)\n"
   ]
  },
  {
   "cell_type": "code",
   "execution_count": null,
   "id": "67f26c5c",
   "metadata": {
    "scrolled": true
   },
   "outputs": [],
   "source": [
    "\n",
    "# Concatenate all the keywords from the entire column into a single string\n",
    "all_keywords_string = ' '.join(data['Company_requirement'])\n",
    "\n",
    "# Split the concatenated string into a list of individual keywords\n",
    "all_keywords_list = all_keywords_string.replace('\"', '').split(',')\n",
    "\n",
    "# Convert the list to a set to remove duplicates, then back to a list to maintain order\n",
    "distinct_keywords_list = list(set(all_keywords_list))\n",
    "\n",
    "# Display the distinct list of keywords\n",
    "print(distinct_keywords_list)\n"
   ]
  },
  {
   "cell_type": "code",
   "execution_count": null,
   "id": "afbb7b7e",
   "metadata": {},
   "outputs": [],
   "source": []
  },
  {
   "cell_type": "code",
   "execution_count": null,
   "id": "310aa44f",
   "metadata": {},
   "outputs": [],
   "source": [
    "# Combine the distinct keywords and job titles into a new list named 'keywords'\n",
    "keywords_list = distinct_keywords_list + distinct_Job_Title\n",
    "\n",
    "# Display the 'keywords' list\n",
    "print(keywords_list)"
   ]
  },
  {
   "cell_type": "markdown",
   "id": "fe9ab118",
   "metadata": {},
   "source": [
    "### *<span style=\"color:green\">Les tendances clés du marché de l'emploi en IA, DS et Big Data...</span>*"
   ]
  },
  {
   "cell_type": "code",
   "execution_count": 357,
   "id": "1edeafdf",
   "metadata": {},
   "outputs": [],
   "source": [
    "import re\n",
    "\n",
    "# Define the function to get the subtitle job based on the 'Job Title' and 'Company_requirement'\n",
    "def getSubTitleJob(row):\n",
    "    t = str(row['Job Title'])  # Convert 'Job Title' value to a string\n",
    "    company_req = row['Company_requirement']\n",
    "    if pd.notnull(company_req):\n",
    "        company_req_str = str(company_req)  # Convert 'Company_requirement' value to a string\n",
    "        t = t + ' ' + company_req_str  # Combine 'Job Title' and 'Company_requirement'\n",
    "\n",
    "    t = t.upper()\n",
    "\n",
    "    # Define a dictionary with category names as keys and their corresponding regex keywords as values\n",
    "    categories_regex = {\n",
    "        'Artificial Intelligence': ['\\\\bAI\\\\b', '\\\\bARTIFICIAL INTELLIGENCE\\\\b', '\\\\bARTIFICIAL INTELLIGENCE ENGINEER\\\\b', '\\\\bMACHINE INTELLIGENCE\\\\b', '\\\\bartificial\\\\ intelligence\\\\b', '\\\\bartificial\\\\b', '\\\\bintelligence\\\\b', '\\\\bdirector\\\\ artificial\\\\b', '\\\\bintelligence\\\\ machine\\\\b', '\\\\band\\\\ machine\\\\b', '\\\\bintelligence\\\\ and\\\\b', '\\\\bmachine\\\\ learning\\\\b', '\\\\bmachine\\\\b', '\\\\blearning\\\\b', '\\\\bdirector\\\\b', '\\\\blead\\\\b', '\\\\blead\\\\ kpmg\\\\b', '\\\\bkpmg\\\\b', '\\\\bkpmg\\\\ futures\\\\b', '\\\\bfutures\\\\b', '\\\\bintelligence\\\\ lead\\\\b', '\\\\band\\\\b', '\\\\bengineer\\\\b', '\\\\bhardware\\\\ architect\\\\b'],\n",
    "        'Data Science': ['\\\\bDS\\\\b', '\\\\bDATA SCIENCE\\\\b', '\\\\bDATA SCIENTIST\\\\b', '\\\\bDATA SCIENCE ANALYST\\\\b', '\\\\bDATA ENGINEERING\\\\b', '\\\\bdata\\\\ science\\\\b', '\\\\bscience\\\\b', '\\\\bdata\\\\b', '\\\\bmanager\\\\b', '\\\\bscience\\\\ manager\\\\b', '\\\\bdirector\\\\b', '\\\\bscience\\\\ intern\\\\b', '\\\\bof\\\\b', '\\\\bdirector\\\\ data\\\\b', '\\\\bintern\\\\b', '\\\\bmanager\\\\ data\\\\b', '\\\\bconsultant\\\\b', '\\\\bof\\\\ data\\\\b', '\\\\blead\\\\b', '\\\\bsenior\\\\b', '\\\\bhead\\\\ of\\\\b', '\\\\bhead\\\\b', '\\\\bscience\\\\ lead\\\\b', '\\\\bsenior\\\\ manager\\\\b', '\\\\bscientist\\\\ data\\\\b'],\n",
    "        'Big Data': ['\\\\bBIG DATA\\\\b', '\\\\bHADOOP\\\\b', '\\\\bSPARK\\\\b', '\\\\bBIG DATA ANALYTICS\\\\b', '\\\\bbig\\\\ data\\\\b', '\\\\bbig\\\\b', '\\\\bengineer\\\\b', '\\\\bdata\\\\b', '\\\\bdata\\\\ engineer\\\\b', '\\\\bsenior\\\\ big\\\\b', '\\\\bengineer\\\\ big\\\\b', '\\\\bsenior\\\\b', '\\\\barchitect\\\\ big\\\\b', '\\\\bsr\\\\ big\\\\b', '\\\\bhadoop\\\\b', '\\\\bdevops\\\\b', '\\\\bsolutions\\\\b', '\\\\bsr\\\\b', '\\\\barchitect\\\\b', '\\\\bsoftware\\\\ engineer\\\\b', '\\\\bsolutions\\\\ architect\\\\b', '\\\\bspecialist\\\\b', '\\\\bsoftware\\\\b', '\\\\bdata\\\\ machine\\\\b'],\n",
    "        'Data Engineer': ['\\\\bDATA ENGINEER\\\\b', '\\\\bDATA ENGINEERING\\\\b', '\\\\bAirflow\\\\b'],\n",
    "        'Data Analyst': ['\\\\bDATA ANALYST\\\\b', '\\\\bDATA ANALYSIS\\\\b', '\\\\bDATA ANALYTICS\\\\b'],\n",
    "        'Machine Learning': ['\\\\bMACHINE LEARNING\\\\b', '\\\\bML\\\\b'],\n",
    "        'Business Intelligence': ['\\\\bBUSINESS INTELLIGENCE\\\\b', '\\\\bDATA ANALYTICS\\\\b', '\\\\bDATA VISUALIZATION\\\\b', '\\\\bDASHBOARD\\\\b', '\\\\bREPORTING\\\\b', '\\\\bKEY PERFORMANCE INDICATORS\\\\b', '\\\\bBUSINESS REPORTS\\\\b', '\\\\bDATA INSIGHTS\\\\b', '\\\\bDATA DRIVEN DECISIONS\\\\b', '\\\\bBUSINESS METRICS\\\\b', '\\\\bBUSINESS ANALYSIS\\\\b', '\\\\bBUSINESS STRATEGY\\\\b']\n",
    "    }\n",
    "\n",
    "    # Iterate through the dictionary to check for matches\n",
    "    for category, keywords in categories_regex.items():\n",
    "        if any(re.search(regex, t) for regex in keywords):\n",
    "            return category.title()\n",
    "\n",
    "    # If no matches found, return the original 'Job Title'\n",
    "    return t\n",
    "\n",
    "# Apply the function to create a new column 'New Job Title' in the DataFrame\n",
    "data['Domain'] = data.apply(getSubTitleJob, axis=1)\n"
   ]
  },
  {
   "cell_type": "code",
   "execution_count": null,
   "id": "60b3d779",
   "metadata": {},
   "outputs": [],
   "source": [
    "data.head(60)"
   ]
  },
  {
   "cell_type": "code",
   "execution_count": 359,
   "id": "51bd70b5",
   "metadata": {},
   "outputs": [],
   "source": [
    "# Define the columns\n",
    "columns_to_check = ['Company', 'country', 'Location', 'Job Title', 'Job Type']\n",
    "\n",
    "# Drop rows with null values in the specified columns\n",
    "data.dropna(subset=columns_to_check, inplace=True)\n"
   ]
  },
  {
   "cell_type": "code",
   "execution_count": 397,
   "id": "8daa807a",
   "metadata": {},
   "outputs": [],
   "source": [
    "data.to_csv(\"data_final.csv\", index= False)"
   ]
  },
  {
   "cell_type": "code",
   "execution_count": 398,
   "id": "a9f59ec5",
   "metadata": {},
   "outputs": [],
   "source": [
    "data = pd.read_csv(\"data_final.csv\")"
   ]
  },
  {
   "cell_type": "code",
   "execution_count": null,
   "id": "fbbe872f",
   "metadata": {},
   "outputs": [],
   "source": [
    "data"
   ]
  }
 ],
 "metadata": {
  "kernelspec": {
   "display_name": "Python 3 (ipykernel)",
   "language": "python",
   "name": "python3"
  },
  "language_info": {
   "codemirror_mode": {
    "name": "ipython",
    "version": 3
   },
   "file_extension": ".py",
   "mimetype": "text/x-python",
   "name": "python",
   "nbconvert_exporter": "python",
   "pygments_lexer": "ipython3",
   "version": "3.11.3"
  }
 },
 "nbformat": 4,
 "nbformat_minor": 5
}
